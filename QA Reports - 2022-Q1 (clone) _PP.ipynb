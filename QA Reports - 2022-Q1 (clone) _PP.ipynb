{
 "cells": [
  {
   "cell_type": "markdown",
   "metadata": {
    "application/vnd.databricks.v1+cell": {
     "cellMetadata": {},
     "inputWidgets": {},
     "nuid": "d9146fce-74ee-4390-b710-579639fd209c",
     "showTitle": false,
     "title": ""
    }
   },
   "source": [
    "## Adding QA Checks\n",
    "* If adding a new category:\n",
    "  * Update the *cats* variable with the new report category. \n",
    "  * Add a Google Sheet with the same name [here](https://docs.google.com/spreadsheets/d/1rvKXdAPUl9wDDIC0NpwFZz5oC8bDBfLHD9nBnlbHTtw/edit#gid=2135584868)\n",
    "* If adding a new qa check to an existing category:\n",
    "  * Add a check in a new cell to the bottom of the group\n",
    "  * Add link to CQA Jira Ticket in the comment where available\n",
    "  * Ensure the report matches the defined format of all reports:\n",
    "    * peopleid = H1 People ID\n",
    "    * Category = cats variable value/google sheet for output\n",
    "    * Check = String defining the check,i.e., Duplicate Twitter URLs\n",
    "    * Flag = 1 for all people IDs that pass the check\n",
    "* Output\n",
    "  * The end of each section concatenates pandas dataframes from the section into 1 df\n",
    "  * Update the pd.concat list for the section with the new report variable, i.e., n5"
   ]
  },
  {
   "cell_type": "code",
   "execution_count": 0,
   "metadata": {
    "application/vnd.databricks.v1+cell": {
     "cellMetadata": {},
     "inputWidgets": {},
     "nuid": "cbdb65c0-eae1-4cd6-a716-459a0a3f5d8a",
     "showTitle": false,
     "title": ""
    }
   },
   "outputs": [
    {
     "output_type": "display_data",
     "data": {
      "text/html": [
       "<style scoped>\n",
       "  .ansiout {\n",
       "    display: block;\n",
       "    unicode-bidi: embed;\n",
       "    white-space: pre-wrap;\n",
       "    word-wrap: break-word;\n",
       "    word-break: break-all;\n",
       "    font-family: \"Source Code Pro\", \"Menlo\", monospace;;\n",
       "    font-size: 13px;\n",
       "    color: #555;\n",
       "    margin-left: 4px;\n",
       "    line-height: 19px;\n",
       "  }\n",
       "</style>\n",
       "<div class=\"ansiout\"></div>"
      ]
     },
     "metadata": {
      "application/vnd.databricks.v1+output": {
       "addedWidgets": {},
       "arguments": {},
       "data": "<div class=\"ansiout\"></div>",
       "datasetInfos": [],
       "metadata": {},
       "removedWidgets": [],
       "type": "html"
      }
     },
     "output_type": "display_data"
    }
   ],
   "source": [
    "import jira as js\n",
    "import pandas as pd\n",
    "from datetime import date\n",
    "from io import StringIO\n",
    "as_of = date.today()\n",
    "from email.message import EmailMessage\n",
    "import smtplib\n",
    "import mimetypes\n",
    "#convert panda dataframes to spark dataframes\n",
    "from pyspark.sql.types import *\n",
    "import os\n",
    "import ast\n",
    "\n",
    "import pygsheets"
   ]
  },
  {
   "cell_type": "code",
   "execution_count": 0,
   "metadata": {
    "application/vnd.databricks.v1+cell": {
     "cellMetadata": {},
     "inputWidgets": {},
     "nuid": "d6627721-1587-41fc-b083-42f71bc9eac5",
     "showTitle": false,
     "title": ""
    }
   },
   "outputs": [
    {
     "output_type": "display_data",
     "data": {
      "text/html": [
       "<style scoped>\n",
       "  .ansiout {\n",
       "    display: block;\n",
       "    unicode-bidi: embed;\n",
       "    white-space: pre-wrap;\n",
       "    word-wrap: break-word;\n",
       "    word-break: break-all;\n",
       "    font-family: \"Source Code Pro\", \"Menlo\", monospace;;\n",
       "    font-size: 13px;\n",
       "    color: #555;\n",
       "    margin-left: 4px;\n",
       "    line-height: 19px;\n",
       "  }\n",
       "</style>\n",
       "<div class=\"ansiout\"></div>"
      ]
     },
     "metadata": {
      "application/vnd.databricks.v1+output": {
       "addedWidgets": {},
       "arguments": {},
       "data": "<div class=\"ansiout\"></div>",
       "datasetInfos": [],
       "metadata": {},
       "removedWidgets": [],
       "type": "html"
      }
     },
     "output_type": "display_data"
    }
   ],
   "source": [
    "cats = [\"People - Name Checks\",\n",
    "        \"People - Affiliations\",\n",
    "        \"People - Emails and Social Media\",\n",
    "        \"People - Dupes\",\n",
    "        \"People - Registry\",\n",
    "        \"People - Publications\"]"
   ]
  },
  {
   "cell_type": "markdown",
   "metadata": {
    "application/vnd.databricks.v1+cell": {
     "cellMetadata": {},
     "inputWidgets": {},
     "nuid": "034ed9ab-f0ff-4482-af47-aac7a51188ee",
     "showTitle": false,
     "title": ""
    }
   },
   "source": [
    "# People - Name Checks"
   ]
  },
  {
   "cell_type": "code",
   "execution_count": 0,
   "metadata": {
    "application/vnd.databricks.v1+cell": {
     "cellMetadata": {},
     "inputWidgets": {},
     "nuid": "1dee5b55-6ec7-42c1-95b8-827288b6d792",
     "showTitle": true,
     "title": "People - Name: First Name Initial with NULL or Middle Name Initial"
    }
   },
   "outputs": [
    {
     "output_type": "display_data",
     "data": {
      "text/html": [
       "<style scoped>\n",
       "  .ansiout {\n",
       "    display: block;\n",
       "    unicode-bidi: embed;\n",
       "    white-space: pre-wrap;\n",
       "    word-wrap: break-word;\n",
       "    word-break: break-all;\n",
       "    font-family: \"Source Code Pro\", \"Menlo\", monospace;;\n",
       "    font-size: 13px;\n",
       "    color: #555;\n",
       "    margin-left: 4px;\n",
       "    line-height: 19px;\n",
       "  }\n",
       "</style>\n",
       "<div class=\"ansiout\"></div>"
      ]
     },
     "metadata": {
      "application/vnd.databricks.v1+output": {
       "addedWidgets": {},
       "arguments": {},
       "data": "<div class=\"ansiout\"></div>",
       "datasetInfos": [],
       "metadata": {},
       "removedWidgets": [],
       "type": "html"
      }
     },
     "output_type": "display_data"
    }
   ],
   "source": [
    "#https://h1insights.atlassian.net/wiki/spaces/H1D/pages/3632594979/People+-+Name+First+Name+Initial+with+NULL+or+Middle+Name+Initial\n",
    "n1 = spark.sql(f\"\"\"\n",
    "select ppm.peopleid,\n",
    "\"{cats[0]}\" as Category,\n",
    "\"First Initial Middle Initial or Null\" as Check,\n",
    "1 as Flag\n",
    "from tesseract_curie.People_latest ppm\n",
    " where --Names\n",
    "((length(ppm.firstname)<2 OR right(ppm.firstname,1)='.')\n",
    "AND (length(ppm.middlename)<2 OR right(ppm.middlename,1)='.' OR ppm.middlename is null)\n",
    ")\n",
    "\"\"\").toPandas()\n",
    "\n",
    "#First name = last name\n",
    "n2 = spark.sql(f\"\"\"\n",
    "select ppm.peopleid,\n",
    "\"{cats[0]}\" as Category,\n",
    "\"First Name Equals Full Name\" as Check,\n",
    "1 as Flag\n",
    "from tesseract_curie.People_latest ppm\n",
    " where --Names\n",
    "(ppm.fullname =ppm.firstname)\n",
    "\"\"\").toPandas()\n",
    "\n",
    "#Last Name is NUll\n",
    "n3 = spark.sql(f\"\"\"\n",
    "select ppm.peopleid,\n",
    "\"{cats[0]}\"  as Category,\n",
    "\"Last Name is Null\" as Check,\n",
    "1 as Flag\n",
    "from tesseract_curie.People_latest ppm\n",
    " where --Names\n",
    "(ppm.lastname is null)\n",
    "\"\"\").toPandas()"
   ]
  },
  {
   "cell_type": "code",
   "execution_count": 0,
   "metadata": {
    "application/vnd.databricks.v1+cell": {
     "cellMetadata": {},
     "inputWidgets": {},
     "nuid": "a746e9b6-355d-4b3e-b3bb-f686849fef6b",
     "showTitle": false,
     "title": ""
    }
   },
   "outputs": [
    {
     "output_type": "display_data",
     "data": {
      "text/html": [
       "<style scoped>\n",
       "  .ansiout {\n",
       "    display: block;\n",
       "    unicode-bidi: embed;\n",
       "    white-space: pre-wrap;\n",
       "    word-wrap: break-word;\n",
       "    word-break: break-all;\n",
       "    font-family: \"Source Code Pro\", \"Menlo\", monospace;;\n",
       "    font-size: 13px;\n",
       "    color: #555;\n",
       "    margin-left: 4px;\n",
       "    line-height: 19px;\n",
       "  }\n",
       "</style>\n",
       "<div class=\"ansiout\"></div>"
      ]
     },
     "metadata": {
      "application/vnd.databricks.v1+output": {
       "addedWidgets": {},
       "arguments": {},
       "data": "<div class=\"ansiout\"></div>",
       "datasetInfos": [],
       "metadata": {},
       "removedWidgets": [],
       "type": "html"
      }
     },
     "output_type": "display_data"
    }
   ],
   "source": [
    "names_df= pd.concat([n1,n2,n3])"
   ]
  },
  {
   "cell_type": "markdown",
   "metadata": {
    "application/vnd.databricks.v1+cell": {
     "cellMetadata": {},
     "inputWidgets": {},
     "nuid": "133d8870-f0c4-40f2-b88d-af388db29cf1",
     "showTitle": false,
     "title": ""
    }
   },
   "source": [
    "#People - Affiliations"
   ]
  },
  {
   "cell_type": "code",
   "execution_count": 0,
   "metadata": {
    "application/vnd.databricks.v1+cell": {
     "cellMetadata": {},
     "inputWidgets": {},
     "nuid": "990c90f1-4a60-4b37-ba4c-929b3a588744",
     "showTitle": false,
     "title": ""
    }
   },
   "outputs": [
    {
     "output_type": "display_data",
     "data": {
      "text/html": [
       "<style scoped>\n",
       "  .ansiout {\n",
       "    display: block;\n",
       "    unicode-bidi: embed;\n",
       "    white-space: pre-wrap;\n",
       "    word-wrap: break-word;\n",
       "    word-break: break-all;\n",
       "    font-family: \"Source Code Pro\", \"Menlo\", monospace;;\n",
       "    font-size: 13px;\n",
       "    color: #555;\n",
       "    margin-left: 4px;\n",
       "    line-height: 19px;\n",
       "  }\n",
       "</style>\n",
       "<div class=\"ansiout\"></div>"
      ]
     },
     "metadata": {
      "application/vnd.databricks.v1+output": {
       "addedWidgets": {},
       "arguments": {},
       "data": "<div class=\"ansiout\"></div>",
       "datasetInfos": [],
       "metadata": {},
       "removedWidgets": [],
       "type": "html"
      }
     },
     "output_type": "display_data"
    }
   ],
   "source": [
    "#No affiliations but has publication or congress\n",
    "n1 = spark.sql(f\"\"\"\n",
    "    select \n",
    "                  ppm.peopleid,\n",
    "                  \"{cats[1]}\" as Category,\n",
    "                  case \n",
    "                  when  (spl.publicationCount>=1 \n",
    "                        and size(spl.institutions)=0) \n",
    "                  then \"No Affiliations Has Pubs\" \n",
    "                  when  (ppm.ConfAppearancesCount>=1 \n",
    "                      and size(spl.institutions)=0) \n",
    "                  then \"No Affiliations Has Congress\" end as Check,\n",
    "                  1 as Flag\n",
    "                  from tesseract_curie.People_latest ppm \n",
    "                  left join tesseract_curie.People_Institution_latest pipm \n",
    "                  on ppm.peopleid  = pipm.PeopleID \n",
    "                  left join curie.sliced_people_latest spl\n",
    "                  on spl.id = ppm.peopleid\n",
    "                  where \n",
    "                   ( (\n",
    "                      --Pubs\n",
    "                      (spl.publicationCount>=1)\n",
    "                      --Congresses\n",
    "                      OR \n",
    "                      (ppm.ConfAppearancesCount>=1))\n",
    "                       and pipm.InstitutionID is null)\n",
    "\"\"\").toPandas()\n",
    "\n",
    "#Aff Type - Work Affiliation at Society or Journal\n",
    "n2 = spark.sql(f\"\"\"\n",
    "select i.people_id as peopleid,\n",
    "      \"{cats[1]}\" as Category,\n",
    "      i.master_organization_id,      \n",
    "      case when  upper(il.type) =  'SOCIETIES-ASSOCIATIONS'\n",
    "      then \"Work Affiliation At Society\" \n",
    "      when  upper(il.type) = 'JOURNAL'\n",
    "      then \"Work Affiliation At Journal\" end as Check,\n",
    "      1 as Flag\n",
    "from curie.people_institution_latest i\n",
    "join curie.people_institution_affiliation_latest a\n",
    "on i.id = a.people_institution_id\n",
    "join curie.institutions_latest il\n",
    "on il.id = i.institution_id\n",
    "where UPPER(a.affiliation_type) IN ('WORK AFFILIATION','NO AFFILIATION') AND UPPER(il.type) in ('SOCIETIES-ASSOCIATIONS','JOURNAL')\n",
    "\"\"\").toPandas()\n",
    "\n",
    "#Society Affiliation with no Work Affiliation\n",
    "n3=spark.sql(f'''\n",
    "SELECT i.people_id as peopleid,\n",
    "       \"{cats[1]}\" as Category,\n",
    "       \"Society Or Journal Affiliation Only\" as Check,\n",
    "       1 as Flag\n",
    "from curie.people_institution_latest i\n",
    "join curie.people_institution_affiliation_latest a\n",
    "on i.id = a.people_institution_id\n",
    "join curie.institutions_latest il\n",
    "on il.id = i.institution_id\n",
    "GROUP BY i.people_id\n",
    "HAVING SUM(CASE WHEN upper(a.affiliation_type)='WORK AFFILIATION'\n",
    "                 AND upper(il.Type) not in ('SOCIETIES-ASSOCIATIONS','JOURNAL')\n",
    "                THEN 1\n",
    "                ELSE 0\n",
    "                END)<1\n",
    "       AND SUM(CASE WHEN upper(a.affiliation_type)='SOCIETY MEMBER'\n",
    "                 AND upper(il.Type) in ('SOCIETIES-ASSOCIATIONS','JOURNAL')\n",
    "                THEN 1\n",
    "                ELSE 0\n",
    "                END)>0\n",
    "''').toPandas()"
   ]
  },
  {
   "cell_type": "code",
   "execution_count": 0,
   "metadata": {
    "application/vnd.databricks.v1+cell": {
     "cellMetadata": {},
     "inputWidgets": {},
     "nuid": "012b3f6d-972b-45c6-8510-a4b7c44516c8",
     "showTitle": false,
     "title": ""
    }
   },
   "outputs": [
    {
     "output_type": "display_data",
     "data": {
      "text/html": [
       "<style scoped>\n",
       "  .ansiout {\n",
       "    display: block;\n",
       "    unicode-bidi: embed;\n",
       "    white-space: pre-wrap;\n",
       "    word-wrap: break-word;\n",
       "    word-break: break-all;\n",
       "    font-family: \"Source Code Pro\", \"Menlo\", monospace;;\n",
       "    font-size: 13px;\n",
       "    color: #555;\n",
       "    margin-left: 4px;\n",
       "    line-height: 19px;\n",
       "  }\n",
       "</style>\n",
       "<div class=\"ansiout\"></div>"
      ]
     },
     "metadata": {
      "application/vnd.databricks.v1+output": {
       "addedWidgets": {},
       "arguments": {},
       "data": "<div class=\"ansiout\"></div>",
       "datasetInfos": [],
       "metadata": {},
       "removedWidgets": [],
       "type": "html"
      }
     },
     "output_type": "display_data"
    }
   ],
   "source": [
    "# Multiple Current Work Affiliations(>5)\n",
    "# Business Owner: Ana Riquezes\n",
    "# Data Assessment Owner: Anna Soloveva\n",
    "\n",
    "# n4 = spark.sql(f'''\n",
    "# SELECT ppm.PeopleID as peopleid, \n",
    "# \"{cats[1]}\" as Category, \n",
    "# \"Multiple Current Work Affiliations(>5)\" as Check, \n",
    "# 1 as Flag\n",
    "# FROM tesseract_curie.people_latest ppm\n",
    "# JOIN (SELECT i.PeopleID, count (distinct i.PeopleInstitutionID)\n",
    "#            FROM tesseract_curie.people_institution_latest i\n",
    "#            LEFT JOIN tesseract_curie.people_institution_affiliation_latest a ON a.ParentID = i.PeopleInstitutionID\n",
    "#            WHERE i.IsCurrentAffiliation = 1 AND a.AffiliationType = 'Work Affiliation' AND i.source != 9\n",
    "#            GROUP BY i.PeopleID\n",
    "#            HAVING count (distinct i.PeopleInstitutionID) > 5)inst\n",
    "# ON ppm.PeopleID = inst.PeopleID\n",
    "# ''').toPandas()"
   ]
  },
  {
   "cell_type": "code",
   "execution_count": 0,
   "metadata": {
    "application/vnd.databricks.v1+cell": {
     "cellMetadata": {},
     "inputWidgets": {},
     "nuid": "3c8d93ca-53e9-47d7-82d9-6d60a2b8a401",
     "showTitle": false,
     "title": ""
    }
   },
   "outputs": [
    {
     "output_type": "display_data",
     "data": {
      "text/html": [
       "<style scoped>\n",
       "  .ansiout {\n",
       "    display: block;\n",
       "    unicode-bidi: embed;\n",
       "    white-space: pre-wrap;\n",
       "    word-wrap: break-word;\n",
       "    word-break: break-all;\n",
       "    font-family: \"Source Code Pro\", \"Menlo\", monospace;;\n",
       "    font-size: 13px;\n",
       "    color: #555;\n",
       "    margin-left: 4px;\n",
       "    line-height: 19px;\n",
       "  }\n",
       "</style>\n",
       "<div class=\"ansiout\"></div>"
      ]
     },
     "metadata": {
      "application/vnd.databricks.v1+output": {
       "addedWidgets": {},
       "arguments": {},
       "data": "<div class=\"ansiout\"></div>",
       "datasetInfos": [],
       "metadata": {},
       "removedWidgets": [],
       "type": "html"
      }
     },
     "output_type": "display_data"
    }
   ],
   "source": [
    "ppl_aff_df=pd.concat([n1,n2,n3])"
   ]
  },
  {
   "cell_type": "markdown",
   "metadata": {
    "application/vnd.databricks.v1+cell": {
     "cellMetadata": {},
     "inputWidgets": {},
     "nuid": "be1a818e-4d65-4925-b74d-3848e7477416",
     "showTitle": false,
     "title": ""
    }
   },
   "source": [
    "#People - Emails and Social Media"
   ]
  },
  {
   "cell_type": "code",
   "execution_count": 0,
   "metadata": {
    "application/vnd.databricks.v1+cell": {
     "cellMetadata": {},
     "inputWidgets": {},
     "nuid": "3b6ee9c3-b138-4eb9-a12d-402f287a0e90",
     "showTitle": false,
     "title": ""
    }
   },
   "outputs": [
    {
     "output_type": "display_data",
     "data": {
      "text/html": [
       "<style scoped>\n",
       "  .ansiout {\n",
       "    display: block;\n",
       "    unicode-bidi: embed;\n",
       "    white-space: pre-wrap;\n",
       "    word-wrap: break-word;\n",
       "    word-break: break-all;\n",
       "    font-family: \"Source Code Pro\", \"Menlo\", monospace;;\n",
       "    font-size: 13px;\n",
       "    color: #555;\n",
       "    margin-left: 4px;\n",
       "    line-height: 19px;\n",
       "  }\n",
       "</style>\n",
       "<div class=\"ansiout\"></div>"
      ]
     },
     "metadata": {
      "application/vnd.databricks.v1+output": {
       "addedWidgets": {},
       "arguments": {},
       "data": "<div class=\"ansiout\"></div>",
       "datasetInfos": [],
       "metadata": {},
       "removedWidgets": [],
       "type": "html"
      }
     },
     "output_type": "display_data"
    }
   ],
   "source": [
    "n1 = spark.sql(f'''\n",
    "SELECT ppm.id as peopleid,\n",
    "       \"{cats[2]}\" as Category,\n",
    "       'Invalid Email' as Check,\n",
    "       1 as Flag\n",
    " from curie.people_latest as ppm\n",
    " where emails not LIKE '%_@__%.__%' \n",
    " AND emails != '[]'\n",
    " ''').toPandas()"
   ]
  },
  {
   "cell_type": "code",
   "execution_count": 0,
   "metadata": {
    "application/vnd.databricks.v1+cell": {
     "cellMetadata": {},
     "inputWidgets": {},
     "nuid": "d266f733-3273-42ab-ab07-206b29d3a87b",
     "showTitle": false,
     "title": ""
    }
   },
   "outputs": [
    {
     "output_type": "display_data",
     "data": {
      "text/html": [
       "<style scoped>\n",
       "  .ansiout {\n",
       "    display: block;\n",
       "    unicode-bidi: embed;\n",
       "    white-space: pre-wrap;\n",
       "    word-wrap: break-word;\n",
       "    word-break: break-all;\n",
       "    font-family: \"Source Code Pro\", \"Menlo\", monospace;;\n",
       "    font-size: 13px;\n",
       "    color: #555;\n",
       "    margin-left: 4px;\n",
       "    line-height: 19px;\n",
       "  }\n",
       "</style>\n",
       "<div class=\"ansiout\"></div>"
      ]
     },
     "metadata": {
      "application/vnd.databricks.v1+output": {
       "addedWidgets": {},
       "arguments": {},
       "data": "<div class=\"ansiout\"></div>",
       "datasetInfos": [],
       "metadata": {},
       "removedWidgets": [],
       "type": "html"
      }
     },
     "output_type": "display_data"
    }
   ],
   "source": [
    "n2 = spark.sql(f'''\n",
    "SELECT ppm.id as peopleid,\n",
    "       \"{cats[2]}\" as Category,\n",
    "       'More than 3 Emails' as Check,\n",
    "       1 as Flag\n",
    "from curie.people_latest ppm\n",
    "where (length(emails)-length(replace(emails,',','')))>3\n",
    " ''').toPandas()"
   ]
  },
  {
   "cell_type": "code",
   "execution_count": 0,
   "metadata": {
    "application/vnd.databricks.v1+cell": {
     "cellMetadata": {},
     "inputWidgets": {},
     "nuid": "aa1b5593-0ea4-4ea9-92d0-feec4f9088e0",
     "showTitle": false,
     "title": ""
    }
   },
   "outputs": [
    {
     "output_type": "display_data",
     "data": {
      "text/html": [
       "<style scoped>\n",
       "  .ansiout {\n",
       "    display: block;\n",
       "    unicode-bidi: embed;\n",
       "    white-space: pre-wrap;\n",
       "    word-wrap: break-word;\n",
       "    word-break: break-all;\n",
       "    font-family: \"Source Code Pro\", \"Menlo\", monospace;;\n",
       "    font-size: 13px;\n",
       "    color: #555;\n",
       "    margin-left: 4px;\n",
       "    line-height: 19px;\n",
       "  }\n",
       "</style>\n",
       "<div class=\"ansiout\"></div>"
      ]
     },
     "metadata": {
      "application/vnd.databricks.v1+output": {
       "addedWidgets": {},
       "arguments": {},
       "data": "<div class=\"ansiout\"></div>",
       "datasetInfos": [],
       "metadata": {},
       "removedWidgets": [],
       "type": "html"
      }
     },
     "output_type": "display_data"
    }
   ],
   "source": [
    "emails_df=pd.concat([n1,n2])"
   ]
  },
  {
   "cell_type": "markdown",
   "metadata": {
    "application/vnd.databricks.v1+cell": {
     "cellMetadata": {},
     "inputWidgets": {},
     "nuid": "bbd6d0fe-9ed7-4853-9799-9f1912a6c2ce",
     "showTitle": false,
     "title": ""
    }
   },
   "source": [
    "#People - Dupes"
   ]
  },
  {
   "cell_type": "code",
   "execution_count": 0,
   "metadata": {
    "application/vnd.databricks.v1+cell": {
     "cellMetadata": {},
     "inputWidgets": {},
     "nuid": "5121e77c-d75c-4456-bfe4-03a27e905282",
     "showTitle": false,
     "title": ""
    }
   },
   "outputs": [
    {
     "output_type": "display_data",
     "data": {
      "text/html": [
       "<style scoped>\n",
       "  .ansiout {\n",
       "    display: block;\n",
       "    unicode-bidi: embed;\n",
       "    white-space: pre-wrap;\n",
       "    word-wrap: break-word;\n",
       "    word-break: break-all;\n",
       "    font-family: \"Source Code Pro\", \"Menlo\", monospace;;\n",
       "    font-size: 13px;\n",
       "    color: #555;\n",
       "    margin-left: 4px;\n",
       "    line-height: 19px;\n",
       "  }\n",
       "</style>\n",
       "<div class=\"ansiout\"></div>"
      ]
     },
     "metadata": {
      "application/vnd.databricks.v1+output": {
       "addedWidgets": {},
       "arguments": {},
       "data": "<div class=\"ansiout\"></div>",
       "datasetInfos": [],
       "metadata": {},
       "removedWidgets": [],
       "type": "html"
      }
     },
     "output_type": "display_data"
    }
   ],
   "source": [
    "#No affiliations but has publication or congress\n",
    "n1 = spark.sql(f\"\"\"\n",
    "   select ppm.id as peopleid,\n",
    "       \"{cats[3]}\" as Category,\n",
    "          \"DuplicateLinkedIn\" as Check,\n",
    "          1 as Flag\n",
    "     from curie.people_latest as ppm\n",
    "  join (select linkedin_URL\n",
    "             from curie.people_latest p\n",
    "         group by linkedin_URL\n",
    "           having count(distinct id)>1) l\n",
    "       on l.linkedin_URL = ppm.linkedin_URL\n",
    "       and l.linkedin_URL<>''\n",
    "\"\"\").toPandas()\n",
    "\n",
    "n2 = spark.sql(f'''\n",
    "   select ppm.id as peopleid,\n",
    "        \"{cats[3]}\" as Category,\n",
    "          'DuplicateTwitter' as Check,\n",
    "          1 as Flag\n",
    "     from curie.people_latest as ppm\n",
    " join (select twitter_URL\n",
    "             from curie.people_latest p\n",
    "         group by twitter_URL\n",
    "           having count(distinct id)>1) t\n",
    "       on t.twitter_URL = ppm.twitter_URL\n",
    "       and t.twitter_URL <>''\n",
    "       ''').toPandas()\n",
    "\n",
    "n3 = spark.sql(f'''\n",
    "   select ppm.id as peopleid,\n",
    "        \"{cats[3]}\" as Category,\n",
    "          'DuplicateORCID' as Check,\n",
    "          1 as Flag\n",
    "     from curie.people_latest as ppm\n",
    "     join (select orcid_id\n",
    "             from curie.people_latest p\n",
    "            where orcid_id != ''\n",
    "         group by orcid_id\n",
    "           having count(distinct id)>1) o\n",
    "       on o.orcid_id = ppm.orcid_id''').toPandas()"
   ]
  },
  {
   "cell_type": "code",
   "execution_count": 0,
   "metadata": {
    "application/vnd.databricks.v1+cell": {
     "cellMetadata": {},
     "inputWidgets": {},
     "nuid": "60ea9be2-b427-4a36-98df-c5a8605888fe",
     "showTitle": true,
     "title": "Dupe Email - Special Handling"
    }
   },
   "outputs": [
    {
     "output_type": "display_data",
     "data": {
      "text/html": [
       "<style scoped>\n",
       "  .ansiout {\n",
       "    display: block;\n",
       "    unicode-bidi: embed;\n",
       "    white-space: pre-wrap;\n",
       "    word-wrap: break-word;\n",
       "    word-break: break-all;\n",
       "    font-family: \"Source Code Pro\", \"Menlo\", monospace;;\n",
       "    font-size: 13px;\n",
       "    color: #555;\n",
       "    margin-left: 4px;\n",
       "    line-height: 19px;\n",
       "  }\n",
       "</style>\n",
       "<div class=\"ansiout\">Out[41]: </div>"
      ]
     },
     "metadata": {
      "application/vnd.databricks.v1+output": {
       "addedWidgets": {},
       "arguments": {},
       "data": "<div class=\"ansiout\">Out[41]: </div>",
       "datasetInfos": [],
       "metadata": {},
       "removedWidgets": [],
       "type": "html"
      }
     },
     "output_type": "display_data"
    },
    {
     "output_type": "display_data",
     "data": {
      "text/html": [
       "<div>\n",
       "<style scoped>\n",
       "    .dataframe tbody tr th:only-of-type {\n",
       "        vertical-align: middle;\n",
       "    }\n",
       "\n",
       "    .dataframe tbody tr th {\n",
       "        vertical-align: top;\n",
       "    }\n",
       "\n",
       "    .dataframe thead th {\n",
       "        text-align: right;\n",
       "    }\n",
       "</style>\n",
       "<table border=\"1\" class=\"dataframe\">\n",
       "  <thead>\n",
       "    <tr style=\"text-align: right;\">\n",
       "      <th></th>\n",
       "      <th>peopleid</th>\n",
       "      <th>emails</th>\n",
       "    </tr>\n",
       "  </thead>\n",
       "  <tbody>\n",
       "    <tr>\n",
       "      <th>0</th>\n",
       "      <td>118152</td>\n",
       "      <td>[\"timothy.kitchen@wcahospital.org\"]</td>\n",
       "    </tr>\n",
       "    <tr>\n",
       "      <th>1</th>\n",
       "      <td>238216</td>\n",
       "      <td>[\"lmcaleer-leavey@sentara.com\"]</td>\n",
       "    </tr>\n",
       "    <tr>\n",
       "      <th>2</th>\n",
       "      <td>290714</td>\n",
       "      <td>[\"zacharydreyfuss@mhd.com\",\"zacharydreyfuss@te...</td>\n",
       "    </tr>\n",
       "    <tr>\n",
       "      <th>3</th>\n",
       "      <td>487392</td>\n",
       "      <td>[\"kflores@cpgh.org\"]</td>\n",
       "    </tr>\n",
       "    <tr>\n",
       "      <th>4</th>\n",
       "      <td>577349</td>\n",
       "      <td>[\"amyburton@texashealth.org\"]</td>\n",
       "    </tr>\n",
       "  </tbody>\n",
       "</table>\n",
       "</div>"
      ]
     },
     "metadata": {
      "application/vnd.databricks.v1+output": {
       "addedWidgets": {},
       "arguments": {},
       "data": "<div>\n<style scoped>\n    .dataframe tbody tr th:only-of-type {\n        vertical-align: middle;\n    }\n\n    .dataframe tbody tr th {\n        vertical-align: top;\n    }\n\n    .dataframe thead th {\n        text-align: right;\n    }\n</style>\n<table border=\"1\" class=\"dataframe\">\n  <thead>\n    <tr style=\"text-align: right;\">\n      <th></th>\n      <th>peopleid</th>\n      <th>emails</th>\n    </tr>\n  </thead>\n  <tbody>\n    <tr>\n      <th>0</th>\n      <td>118152</td>\n      <td>[\"timothy.kitchen@wcahospital.org\"]</td>\n    </tr>\n    <tr>\n      <th>1</th>\n      <td>238216</td>\n      <td>[\"lmcaleer-leavey@sentara.com\"]</td>\n    </tr>\n    <tr>\n      <th>2</th>\n      <td>290714</td>\n      <td>[\"zacharydreyfuss@mhd.com\",\"zacharydreyfuss@te...</td>\n    </tr>\n    <tr>\n      <th>3</th>\n      <td>487392</td>\n      <td>[\"kflores@cpgh.org\"]</td>\n    </tr>\n    <tr>\n      <th>4</th>\n      <td>577349</td>\n      <td>[\"amyburton@texashealth.org\"]</td>\n    </tr>\n  </tbody>\n</table>\n</div>",
       "datasetInfos": [],
       "metadata": {},
       "removedWidgets": [],
       "textData": null,
       "type": "htmlSandbox"
      }
     },
     "output_type": "display_data"
    }
   ],
   "source": [
    "emails = spark.sql('''\n",
    "SELECT ppm.id as peopleid, emails\n",
    " from curie.people_latest as ppm\n",
    " where emails !='[]'\n",
    " ''').toPandas()\n",
    "emails.head()"
   ]
  },
  {
   "cell_type": "code",
   "execution_count": 0,
   "metadata": {
    "application/vnd.databricks.v1+cell": {
     "cellMetadata": {},
     "inputWidgets": {},
     "nuid": "faa78d73-4cd1-4415-be18-63feeda3c489",
     "showTitle": false,
     "title": ""
    }
   },
   "outputs": [
    {
     "output_type": "display_data",
     "data": {
      "text/html": [
       "<style scoped>\n",
       "  .ansiout {\n",
       "    display: block;\n",
       "    unicode-bidi: embed;\n",
       "    white-space: pre-wrap;\n",
       "    word-wrap: break-word;\n",
       "    word-break: break-all;\n",
       "    font-family: \"Source Code Pro\", \"Menlo\", monospace;;\n",
       "    font-size: 13px;\n",
       "    color: #555;\n",
       "    margin-left: 4px;\n",
       "    line-height: 19px;\n",
       "  }\n",
       "</style>\n",
       "<div class=\"ansiout\"></div>"
      ]
     },
     "metadata": {
      "application/vnd.databricks.v1+output": {
       "addedWidgets": {},
       "arguments": {},
       "data": "<div class=\"ansiout\"></div>",
       "datasetInfos": [],
       "metadata": {},
       "removedWidgets": [],
       "type": "html"
      }
     },
     "output_type": "display_data"
    }
   ],
   "source": [
    "emails['emails'] = emails['emails'].apply(ast.literal_eval)\n",
    "emails = emails.explode('emails')\n",
    "tmp = emails.groupby('emails').peopleid.nunique().to_frame()\n",
    "tmp = tmp[tmp.peopleid>1].index.tolist()\n",
    "\n",
    "#Dupe Emails\n",
    "dupe_emails = emails[emails.emails.isin(tmp)]\n",
    "n4 = dupe_emails.copy()\n",
    "n4.drop('emails',axis=1,inplace=True)\n",
    "n4['Category'] =  cats[3]\n",
    "n4['Check']='DuplicateEmail'\n",
    "n4['Flag'] = 1\n",
    "n4.drop_duplicates(inplace=True)"
   ]
  },
  {
   "cell_type": "code",
   "execution_count": 0,
   "metadata": {
    "application/vnd.databricks.v1+cell": {
     "cellMetadata": {},
     "inputWidgets": {},
     "nuid": "e077e908-022f-404e-b099-f417229c0fcf",
     "showTitle": true,
     "title": "NPI Missing+ Designation and Publication Overlap"
    }
   },
   "outputs": [
    {
     "output_type": "display_data",
     "data": {
      "text/html": [
       "<style scoped>\n",
       "  .ansiout {\n",
       "    display: block;\n",
       "    unicode-bidi: embed;\n",
       "    white-space: pre-wrap;\n",
       "    word-wrap: break-word;\n",
       "    word-break: break-all;\n",
       "    font-family: \"Source Code Pro\", \"Menlo\", monospace;;\n",
       "    font-size: 13px;\n",
       "    color: #555;\n",
       "    margin-left: 4px;\n",
       "    line-height: 19px;\n",
       "  }\n",
       "</style>\n",
       "<div class=\"ansiout\"></div>"
      ]
     },
     "metadata": {
      "application/vnd.databricks.v1+output": {
       "addedWidgets": {},
       "arguments": {},
       "data": "<div class=\"ansiout\"></div>",
       "datasetInfos": [],
       "metadata": {},
       "removedWidgets": [],
       "type": "html"
      }
     },
     "output_type": "display_data"
    },
    {
     "output_type": "display_data",
     "data": {
      "text/html": [
       "<style scoped>\n",
       "  .ansiout {\n",
       "    display: block;\n",
       "    unicode-bidi: embed;\n",
       "    white-space: pre-wrap;\n",
       "    word-wrap: break-word;\n",
       "    word-break: break-all;\n",
       "    font-family: \"Source Code Pro\", \"Menlo\", monospace;;\n",
       "    font-size: 13px;\n",
       "    color: #555;\n",
       "    margin-left: 4px;\n",
       "    line-height: 19px;\n",
       "  }\n",
       "</style>\n",
       "<div class=\"ansiout\"><span class=\"ansi-red-fg\">---------------------------------------------------------------------------</span>\n",
       "<span class=\"ansi-red-fg\">ModuleNotFoundError</span>                       Traceback (most recent call last)\n",
       "<span class=\"ansi-green-fg\">&lt;command-2248991083794213&gt;</span> in <span class=\"ansi-cyan-fg\">&lt;module&gt;</span>\n",
       "<span class=\"ansi-green-fg\">----&gt; 1</span><span class=\"ansi-red-fg\"> </span><span class=\"ansi-green-fg\">from</span> fuzzywuzzy <span class=\"ansi-green-fg\">import</span> fuzz\n",
       "<span class=\"ansi-green-intense-fg ansi-bold\">      2</span> <span class=\"ansi-green-fg\">from</span> fuzzywuzzy <span class=\"ansi-green-fg\">import</span> process\n",
       "<span class=\"ansi-green-intense-fg ansi-bold\">      3</span> npi_pubs = spark.sql(&#39;&#39;&#39;\n",
       "<span class=\"ansi-green-intense-fg ansi-bold\">      4</span>   SELECT <span class=\"ansi-blue-fg\">*</span><span class=\"ansi-blue-fg\">,</span>\n",
       "<span class=\"ansi-green-intense-fg ansi-bold\">      5</span>          <span class=\"ansi-blue-fg\">(</span>target_pubs_overlap<span class=\"ansi-blue-fg\">/</span>source_pubcount<span class=\"ansi-blue-fg\">)</span><span class=\"ansi-blue-fg\">*</span><span class=\"ansi-cyan-fg\">100</span> <span class=\"ansi-green-fg\">as</span> percentage_overlap\n",
       "\n",
       "<span class=\"ansi-green-fg\">/databricks/python_shell/dbruntime/PythonPackageImportsInstrumentation/__init__.py</span> in <span class=\"ansi-cyan-fg\">import_patch</span><span class=\"ansi-blue-fg\">(name, globals, locals, fromlist, level)</span>\n",
       "<span class=\"ansi-green-intense-fg ansi-bold\">    160</span>             <span class=\"ansi-red-fg\"># Import the desired module. If you’re seeing this while debugging a failed import,</span>\n",
       "<span class=\"ansi-green-intense-fg ansi-bold\">    161</span>             <span class=\"ansi-red-fg\"># look at preceding stack frames for relevant error information.</span>\n",
       "<span class=\"ansi-green-fg\">--&gt; 162</span><span class=\"ansi-red-fg\">             </span>original_result <span class=\"ansi-blue-fg\">=</span> python_builtin_import<span class=\"ansi-blue-fg\">(</span>name<span class=\"ansi-blue-fg\">,</span> globals<span class=\"ansi-blue-fg\">,</span> locals<span class=\"ansi-blue-fg\">,</span> fromlist<span class=\"ansi-blue-fg\">,</span> level<span class=\"ansi-blue-fg\">)</span>\n",
       "<span class=\"ansi-green-intense-fg ansi-bold\">    163</span> \n",
       "<span class=\"ansi-green-intense-fg ansi-bold\">    164</span>             is_root_import <span class=\"ansi-blue-fg\">=</span> thread_local<span class=\"ansi-blue-fg\">.</span>_nest_level <span class=\"ansi-blue-fg\">==</span> <span class=\"ansi-cyan-fg\">1</span>\n",
       "\n",
       "<span class=\"ansi-red-fg\">ModuleNotFoundError</span>: No module named &#39;fuzzywuzzy&#39;</div>"
      ]
     },
     "metadata": {
      "application/vnd.databricks.v1+output": {
       "arguments": {},
       "data": "<div class=\"ansiout\"><span class=\"ansi-red-fg\">---------------------------------------------------------------------------</span>\n<span class=\"ansi-red-fg\">ModuleNotFoundError</span>                       Traceback (most recent call last)\n<span class=\"ansi-green-fg\">&lt;command-2248991083794213&gt;</span> in <span class=\"ansi-cyan-fg\">&lt;module&gt;</span>\n<span class=\"ansi-green-fg\">----&gt; 1</span><span class=\"ansi-red-fg\"> </span><span class=\"ansi-green-fg\">from</span> fuzzywuzzy <span class=\"ansi-green-fg\">import</span> fuzz\n<span class=\"ansi-green-intense-fg ansi-bold\">      2</span> <span class=\"ansi-green-fg\">from</span> fuzzywuzzy <span class=\"ansi-green-fg\">import</span> process\n<span class=\"ansi-green-intense-fg ansi-bold\">      3</span> npi_pubs = spark.sql(&#39;&#39;&#39;\n<span class=\"ansi-green-intense-fg ansi-bold\">      4</span>   SELECT <span class=\"ansi-blue-fg\">*</span><span class=\"ansi-blue-fg\">,</span>\n<span class=\"ansi-green-intense-fg ansi-bold\">      5</span>          <span class=\"ansi-blue-fg\">(</span>target_pubs_overlap<span class=\"ansi-blue-fg\">/</span>source_pubcount<span class=\"ansi-blue-fg\">)</span><span class=\"ansi-blue-fg\">*</span><span class=\"ansi-cyan-fg\">100</span> <span class=\"ansi-green-fg\">as</span> percentage_overlap\n\n<span class=\"ansi-green-fg\">/databricks/python_shell/dbruntime/PythonPackageImportsInstrumentation/__init__.py</span> in <span class=\"ansi-cyan-fg\">import_patch</span><span class=\"ansi-blue-fg\">(name, globals, locals, fromlist, level)</span>\n<span class=\"ansi-green-intense-fg ansi-bold\">    160</span>             <span class=\"ansi-red-fg\"># Import the desired module. If you’re seeing this while debugging a failed import,</span>\n<span class=\"ansi-green-intense-fg ansi-bold\">    161</span>             <span class=\"ansi-red-fg\"># look at preceding stack frames for relevant error information.</span>\n<span class=\"ansi-green-fg\">--&gt; 162</span><span class=\"ansi-red-fg\">             </span>original_result <span class=\"ansi-blue-fg\">=</span> python_builtin_import<span class=\"ansi-blue-fg\">(</span>name<span class=\"ansi-blue-fg\">,</span> globals<span class=\"ansi-blue-fg\">,</span> locals<span class=\"ansi-blue-fg\">,</span> fromlist<span class=\"ansi-blue-fg\">,</span> level<span class=\"ansi-blue-fg\">)</span>\n<span class=\"ansi-green-intense-fg ansi-bold\">    163</span> \n<span class=\"ansi-green-intense-fg ansi-bold\">    164</span>             is_root_import <span class=\"ansi-blue-fg\">=</span> thread_local<span class=\"ansi-blue-fg\">.</span>_nest_level <span class=\"ansi-blue-fg\">==</span> <span class=\"ansi-cyan-fg\">1</span>\n\n<span class=\"ansi-red-fg\">ModuleNotFoundError</span>: No module named &#39;fuzzywuzzy&#39;</div>",
       "errorSummary": "<span class=\"ansi-red-fg\">ModuleNotFoundError</span>: No module named &#39;fuzzywuzzy&#39;",
       "errorTraceType": "html",
       "metadata": {},
       "type": "ipynbError"
      }
     },
     "output_type": "display_data"
    }
   ],
   "source": [
    "from fuzzywuzzy import fuzz\n",
    "from fuzzywuzzy import process\n",
    "npi_pubs = spark.sql('''\n",
    "  SELECT *,\n",
    "         (target_pubs_overlap/source_pubcount)*100 as percentage_overlap\n",
    "    FROM (\n",
    "   SELECT a.people_id as sourceid, \n",
    "          p.first_name as source_fname,\n",
    "          p.middle_name as source_mname,\n",
    "          p.last_name as source_lname,\n",
    "          p.designations as source_designation,\n",
    "          spl.publicationCount as source_pubcount,\n",
    "          b.people_id as target_id,\n",
    "          p2.npi_number as sourcenpi,\n",
    "          p2.first_name as target_fname,\n",
    "          p2.middle_name as target_mname,\n",
    "          p2.last_name as target_lname,\n",
    "          p2.designations as target_designation,\n",
    "          count(distinct b.publications_id) as target_pubs_overlap,\n",
    "          row_number() over (partition by a.people_id order by count(distinct b.publications_id)/spl.publicationCount desc) as overlap_rank\n",
    "     FROM (SELECT *\n",
    "             FROM curie.people_latest pp\n",
    "            WHERE pp.designations like '%MD%'\n",
    "              AND pp.npi_number is null) AS p\n",
    "     JOIN (SELECT *\n",
    "             FROM curie.sliced_people_latest pl\n",
    "            WHERE array_contains(pl.locations.country, 'United States') = TRUE\n",
    "              AND pl.publicationCount>9) AS spl\n",
    "       on p.id = spl.id\n",
    "     JOIN curie.publication_authors_latest a \n",
    "       on a.people_id = p.id\n",
    "     JOIN curie.publication_authors_latest b\n",
    "       ON a.people_id <> b.people_id\n",
    "      AND a.publications_id = b.publications_id\n",
    "     JOIN curie.people_latest p2\n",
    "       ON p2.id = b.people_id\n",
    "      AND p2.npi_number is not null\n",
    "      AND p2.npi_number != ''\n",
    "      AND p2.designations like '%MD%'\n",
    " GROUP BY a.people_id, \n",
    "          p.first_name,\n",
    "          p.middle_name,\n",
    "          p.last_name,\n",
    "          p.designations,\n",
    "          spl.publicationCount,\n",
    "          b.people_id,\n",
    "          p2.npi_number,\n",
    "          p2.first_name,\n",
    "          p2.middle_name,\n",
    "          p2.last_name,\n",
    "          p2.designations ) A\n",
    "    WHERE overlap_rank<6\n",
    "      AND (target_pubs_overlap/source_pubcount)>.85\n",
    "''').toPandas()\n",
    "\n",
    "npi_pubs['source_fn'] = npi_pubs['source_fname']+' '+npi_pubs['source_mname']+' '+npi_pubs['source_lname']\n",
    "npi_pubs['target_fn'] = npi_pubs['target_fname']+' '+npi_pubs['target_mname']+' '+npi_pubs['target_lname']\n",
    "npi_pubs['name_match_score'] = npi_pubs.fillna('-').apply(lambda x: fuzz.partial_ratio(x['source_fn'].lower(), x['target_fn'].lower()), axis=1)\n",
    "npi_pubs['Check']='DuplicateNPI_Overlap_Pubs'\n",
    "npi_pubs['Flag'] = 1\n",
    "n5 =pd.concat([npi_pubs[npi_pubs['name_match_score']>75][['sourceid','Check','Flag']],npi_pubs[npi_pubs['name_match_score']>75][['sourceid','Check','Flag']]])\n",
    "n5['Category'] =  cats[3]\n"
   ]
  },
  {
   "cell_type": "code",
   "execution_count": 0,
   "metadata": {
    "application/vnd.databricks.v1+cell": {
     "cellMetadata": {},
     "inputWidgets": {},
     "nuid": "72fe8f85-97b6-4fba-adf6-58e121d00ca8",
     "showTitle": false,
     "title": ""
    }
   },
   "outputs": [
    {
     "output_type": "display_data",
     "data": {
      "text/html": [
       "<style scoped>\n",
       "  .ansiout {\n",
       "    display: block;\n",
       "    unicode-bidi: embed;\n",
       "    white-space: pre-wrap;\n",
       "    word-wrap: break-word;\n",
       "    word-break: break-all;\n",
       "    font-family: \"Source Code Pro\", \"Menlo\", monospace;;\n",
       "    font-size: 13px;\n",
       "    color: #555;\n",
       "    margin-left: 4px;\n",
       "    line-height: 19px;\n",
       "  }\n",
       "</style>"
      ]
     },
     "metadata": {
      "application/vnd.databricks.v1+output": {
       "arguments": {},
       "data": "",
       "errorSummary": "Command skipped",
       "errorTraceType": "html",
       "metadata": {},
       "type": "ipynbError"
      }
     },
     "output_type": "display_data"
    }
   ],
   "source": [
    "n5.rename(columns={'sourceid':'peopleid'},inplace=True)\n",
    "ppl_dupe_df=pd.concat([n1,n2,n3,n4,n5])"
   ]
  },
  {
   "cell_type": "markdown",
   "metadata": {
    "application/vnd.databricks.v1+cell": {
     "cellMetadata": {},
     "inputWidgets": {},
     "nuid": "9e1e4104-56c2-454c-aa1d-d8eaa96c14b1",
     "showTitle": false,
     "title": ""
    }
   },
   "source": [
    "## People - Registry"
   ]
  },
  {
   "cell_type": "code",
   "execution_count": 0,
   "metadata": {
    "application/vnd.databricks.v1+cell": {
     "cellMetadata": {},
     "inputWidgets": {},
     "nuid": "0aa32201-7ee8-463b-a93a-3dbc55d34d75",
     "showTitle": false,
     "title": ""
    }
   },
   "outputs": [
    {
     "output_type": "display_data",
     "data": {
      "text/html": [
       "<style scoped>\n",
       "  .ansiout {\n",
       "    display: block;\n",
       "    unicode-bidi: embed;\n",
       "    white-space: pre-wrap;\n",
       "    word-wrap: break-word;\n",
       "    word-break: break-all;\n",
       "    font-family: \"Source Code Pro\", \"Menlo\", monospace;;\n",
       "    font-size: 13px;\n",
       "    color: #555;\n",
       "    margin-left: 4px;\n",
       "    line-height: 19px;\n",
       "  }\n",
       "</style>"
      ]
     },
     "metadata": {
      "application/vnd.databricks.v1+output": {
       "arguments": {},
       "data": "",
       "errorSummary": "Command skipped",
       "errorTraceType": "html",
       "metadata": {},
       "type": "ipynbError"
      }
     },
     "output_type": "display_data"
    }
   ],
   "source": [
    "#People with no NPI in US with MD/NP\n",
    "n1 = spark.sql(f'''\n",
    "SELECT pp.id as  peopleid, \n",
    "        \"{cats[4]}\" as Category,\n",
    "       'MD or NP in US without NPI' as Check,\n",
    "       1 as Flag\n",
    " FROM curie.people_latest pp\n",
    "WHERE (upper(pp.designations) like '%MD%' or upper(pp.designations) like '%NP%')\n",
    "  AND pp.npi_number is null\n",
    "  AND pp.id in (\n",
    "select DISTINCT people_id\n",
    "from (\n",
    "select i.people_id\n",
    "from curie.people_institution_latest i\n",
    "join curie.people_institution_affiliation_latest a\n",
    "on i.id = a.people_institution_id\n",
    "join curie.people_institution_address_latest pad\n",
    "on pad.people_institution_id = a.id\n",
    "join curie.addresses_latest ad\n",
    "on ad.id = pad.address_id\n",
    "where a.end_date is null\n",
    "AND UPPER(country) = \"UNITED STATES\"\n",
    "AND upper(affiliation_type) in (\"WORK AFFILIATION\")\n",
    "union\n",
    "select i.people_id\n",
    "from curie.people_institution_latest i\n",
    "join curie.people_institution_affiliation_latest a\n",
    "on i.id = a.people_institution_id\n",
    "join curie.institution_address_latest id\n",
    "on id.institution_id = i.institution_id\n",
    "join curie.addresses_latest ad\n",
    "on ad.id = id.address_id\n",
    "where a.end_date is null\n",
    "AND UPPER(country) = \"UNITED STATES\"\n",
    "AND upper(affiliation_type) in (\"WORK AFFILIATION\")\n",
    ") \n",
    ")\n",
    " ''').toPandas()"
   ]
  },
  {
   "cell_type": "code",
   "execution_count": 0,
   "metadata": {
    "application/vnd.databricks.v1+cell": {
     "cellMetadata": {},
     "inputWidgets": {},
     "nuid": "1904526c-408a-4742-b343-765023210ebd",
     "showTitle": false,
     "title": ""
    }
   },
   "outputs": [
    {
     "output_type": "display_data",
     "data": {
      "text/html": [
       "<style scoped>\n",
       "  .ansiout {\n",
       "    display: block;\n",
       "    unicode-bidi: embed;\n",
       "    white-space: pre-wrap;\n",
       "    word-wrap: break-word;\n",
       "    word-break: break-all;\n",
       "    font-family: \"Source Code Pro\", \"Menlo\", monospace;;\n",
       "    font-size: 13px;\n",
       "    color: #555;\n",
       "    margin-left: 4px;\n",
       "    line-height: 19px;\n",
       "  }\n",
       "</style>"
      ]
     },
     "metadata": {
      "application/vnd.databricks.v1+output": {
       "arguments": {},
       "data": "",
       "errorSummary": "Command skipped",
       "errorTraceType": "html",
       "metadata": {},
       "type": "ipynbError"
      }
     },
     "output_type": "display_data"
    }
   ],
   "source": [
    "#has NPI but no US work affiliation\n",
    "n2 = spark.sql(f'''\n",
    "SELECT DISTINCT pp.id as  peopleid, \n",
    "        \"{cats[4]}\" as Category,\n",
    "       'NPI without US Work Affiliation' as Check,\n",
    "       1 as Flag\n",
    " FROM curie.people_latest pp\n",
    "WHERE (upper(pp.designations) like '%MD%' or upper(pp.designations) like '%NP%')\n",
    "  AND pp.npi_number is not null\n",
    "  AND pp.id not in (\n",
    "select DISTINCT people_id\n",
    "from (\n",
    "select i.people_id\n",
    "from curie.people_institution_latest i\n",
    "join curie.people_institution_affiliation_latest a\n",
    "on i.id = a.people_institution_id\n",
    "join curie.people_institution_address_latest pad\n",
    "on pad.people_institution_id = a.id\n",
    "join curie.addresses_latest ad\n",
    "on ad.id = pad.address_id\n",
    "where a.end_date is null\n",
    "AND UPPER(country) = \"UNITED STATES\"\n",
    "AND upper(affiliation_type) in (\"WORK AFFILIATION\")\n",
    "union\n",
    "select i.people_id\n",
    "from curie.people_institution_latest i\n",
    "join curie.people_institution_affiliation_latest a\n",
    "on i.id = a.people_institution_id\n",
    "join curie.institution_address_latest id\n",
    "on id.institution_id = i.institution_id\n",
    "join curie.addresses_latest ad\n",
    "on ad.id = id.address_id\n",
    "where a.end_date is null\n",
    "AND UPPER(country) = \"UNITED STATES\"\n",
    "AND upper(affiliation_type) in (\"WORK AFFILIATION\")\n",
    ") \n",
    ")\n",
    " ''').toPandas()"
   ]
  },
  {
   "cell_type": "code",
   "execution_count": 0,
   "metadata": {
    "application/vnd.databricks.v1+cell": {
     "cellMetadata": {},
     "inputWidgets": {},
     "nuid": "0bd761c6-48dc-4207-8268-71b42c35e82f",
     "showTitle": false,
     "title": ""
    }
   },
   "outputs": [
    {
     "output_type": "display_data",
     "data": {
      "text/html": [
       "<style scoped>\n",
       "  .ansiout {\n",
       "    display: block;\n",
       "    unicode-bidi: embed;\n",
       "    white-space: pre-wrap;\n",
       "    word-wrap: break-word;\n",
       "    word-break: break-all;\n",
       "    font-family: \"Source Code Pro\", \"Menlo\", monospace;;\n",
       "    font-size: 13px;\n",
       "    color: #555;\n",
       "    margin-left: 4px;\n",
       "    line-height: 19px;\n",
       "  }\n",
       "</style>"
      ]
     },
     "metadata": {
      "application/vnd.databricks.v1+output": {
       "arguments": {},
       "data": "",
       "errorSummary": "Command skipped",
       "errorTraceType": "html",
       "metadata": {},
       "type": "ipynbError"
      }
     },
     "output_type": "display_data"
    }
   ],
   "source": [
    "ppl_reg=pd.concat([n1,n2])"
   ]
  },
  {
   "cell_type": "markdown",
   "metadata": {
    "application/vnd.databricks.v1+cell": {
     "cellMetadata": {},
     "inputWidgets": {},
     "nuid": "b5f25c88-58a0-44aa-b10d-7f3f8fdb57d0",
     "showTitle": false,
     "title": ""
    }
   },
   "source": [
    "# People - Publications"
   ]
  },
  {
   "cell_type": "code",
   "execution_count": 0,
   "metadata": {
    "application/vnd.databricks.v1+cell": {
     "cellMetadata": {},
     "inputWidgets": {},
     "nuid": "3ce54826-87b6-4466-908d-2149a7c97797",
     "showTitle": false,
     "title": ""
    }
   },
   "outputs": [
    {
     "output_type": "display_data",
     "data": {
      "text/html": [
       "<style scoped>\n",
       "  .ansiout {\n",
       "    display: block;\n",
       "    unicode-bidi: embed;\n",
       "    white-space: pre-wrap;\n",
       "    word-wrap: break-word;\n",
       "    word-break: break-all;\n",
       "    font-family: \"Source Code Pro\", \"Menlo\", monospace;;\n",
       "    font-size: 13px;\n",
       "    color: #555;\n",
       "    margin-left: 4px;\n",
       "    line-height: 19px;\n",
       "  }\n",
       "</style>"
      ]
     },
     "metadata": {
      "application/vnd.databricks.v1+output": {
       "arguments": {},
       "data": "",
       "errorSummary": "Command skipped",
       "errorTraceType": "html",
       "metadata": {},
       "type": "ipynbError"
      }
     },
     "output_type": "display_data"
    }
   ],
   "source": [
    "#People with no NPI in US with MD/NP\n",
    "n1 = spark.sql(f'''\n",
    "SELECT id as  peopleid, \n",
    "        \"{cats[5]}\" as Category,\n",
    "       'Faculty Opinion Author - No Pubs' as Check,\n",
    "       1 as Flag\n",
    "from curie.sliced_people_latest as spl\n",
    "WHERE publicationCount<1 AND id in (\tselect people_id\n",
    "                    from curie.faculty_opinion_members_latest)''').toPandas()\n",
    "\n",
    "\n",
    "#Over 1000 publications\n",
    "n2 = spark.sql(f'''\n",
    "SELECT id as  peopleid, \n",
    "        \"{cats[5]}\" as Category,\n",
    "       'Over 1,000 Publications' as Check,\n",
    "       1 as Flag\n",
    "from curie.sliced_people_latest as spl\n",
    "WHERE publicationCount>999''').toPandas()"
   ]
  },
  {
   "cell_type": "code",
   "execution_count": 0,
   "metadata": {
    "application/vnd.databricks.v1+cell": {
     "cellMetadata": {},
     "inputWidgets": {},
     "nuid": "5009a625-81fa-4903-b185-16045afbb6fd",
     "showTitle": false,
     "title": ""
    }
   },
   "outputs": [
    {
     "output_type": "display_data",
     "data": {
      "text/html": [
       "<style scoped>\n",
       "  .ansiout {\n",
       "    display: block;\n",
       "    unicode-bidi: embed;\n",
       "    white-space: pre-wrap;\n",
       "    word-wrap: break-word;\n",
       "    word-break: break-all;\n",
       "    font-family: \"Source Code Pro\", \"Menlo\", monospace;;\n",
       "    font-size: 13px;\n",
       "    color: #555;\n",
       "    margin-left: 4px;\n",
       "    line-height: 19px;\n",
       "  }\n",
       "</style>"
      ]
     },
     "metadata": {
      "application/vnd.databricks.v1+output": {
       "arguments": {},
       "data": "",
       "errorSummary": "Command skipped",
       "errorTraceType": "html",
       "metadata": {},
       "type": "ipynbError"
      }
     },
     "output_type": "display_data"
    }
   ],
   "source": [
    "# Business Owner: Arvind\n",
    "# Data Assessment Owner: Anna Soloveva\n",
    "\n",
    "# HCPs with publications from 1950 and before\n",
    "\n",
    "n3 = spark.sql(f'''\n",
    "SELECT distinct cpa.people_id as peopleid, \n",
    "        \"{cats[5]}\" as Category,\n",
    "       'Publications before 1950' as Check,\n",
    "       1 as Flag\n",
    "from curie.publication_authors_latest  cpa\n",
    "left join curie.publications_latest cp on cp.id = cpa.publications_id\n",
    "where cp.date_published < '-599616000' ''').toPandas()\n",
    "\n",
    "# Publications > 100 in a given year\n",
    "\n",
    "n4 = spark.sql(f'''\n",
    "SELECT distinct cpa.people_id as peopleid, \n",
    "        \"{cats[5]}\" as Category,\n",
    "       'Publications > 100 in a given year' as Check,\n",
    "       1 as Flag\n",
    "from curie.publication_authors_latest  cpa\n",
    "join curie.publications_latest cp on cp.id = cpa.publications_id \n",
    "group by cpa.people_id, from_unixtime(cp.date_published,'yyyy')\n",
    "having count(distinct cp.id) > 100 ''').toPandas()"
   ]
  },
  {
   "cell_type": "code",
   "execution_count": 0,
   "metadata": {
    "application/vnd.databricks.v1+cell": {
     "cellMetadata": {},
     "inputWidgets": {},
     "nuid": "2bc473c9-c6f2-4b17-86aa-f626a4226b2b",
     "showTitle": false,
     "title": ""
    }
   },
   "outputs": [
    {
     "output_type": "display_data",
     "data": {
      "text/html": [
       "<style scoped>\n",
       "  .ansiout {\n",
       "    display: block;\n",
       "    unicode-bidi: embed;\n",
       "    white-space: pre-wrap;\n",
       "    word-wrap: break-word;\n",
       "    word-break: break-all;\n",
       "    font-family: \"Source Code Pro\", \"Menlo\", monospace;;\n",
       "    font-size: 13px;\n",
       "    color: #555;\n",
       "    margin-left: 4px;\n",
       "    line-height: 19px;\n",
       "  }\n",
       "</style>"
      ]
     },
     "metadata": {
      "application/vnd.databricks.v1+output": {
       "arguments": {},
       "data": "",
       "errorSummary": "Command skipped",
       "errorTraceType": "html",
       "metadata": {},
       "type": "ipynbError"
      }
     },
     "output_type": "display_data"
    }
   ],
   "source": [
    "ppl_pubs=pd.concat([n1,n2,n3,n4])"
   ]
  },
  {
   "cell_type": "markdown",
   "metadata": {
    "application/vnd.databricks.v1+cell": {
     "cellMetadata": {},
     "inputWidgets": {},
     "nuid": "0e36d25a-f98e-4d3b-bb0e-5ce959f69e97",
     "showTitle": false,
     "title": ""
    }
   },
   "source": [
    "## Concatenate All Outputs"
   ]
  },
  {
   "cell_type": "code",
   "execution_count": 0,
   "metadata": {
    "application/vnd.databricks.v1+cell": {
     "cellMetadata": {},
     "inputWidgets": {},
     "nuid": "d4603096-bdae-4f2e-846b-b581a10cae87",
     "showTitle": false,
     "title": ""
    }
   },
   "outputs": [
    {
     "output_type": "display_data",
     "data": {
      "text/html": [
       "<style scoped>\n",
       "  .ansiout {\n",
       "    display: block;\n",
       "    unicode-bidi: embed;\n",
       "    white-space: pre-wrap;\n",
       "    word-wrap: break-word;\n",
       "    word-break: break-all;\n",
       "    font-family: \"Source Code Pro\", \"Menlo\", monospace;;\n",
       "    font-size: 13px;\n",
       "    color: #555;\n",
       "    margin-left: 4px;\n",
       "    line-height: 19px;\n",
       "  }\n",
       "</style>"
      ]
     },
     "metadata": {
      "application/vnd.databricks.v1+output": {
       "arguments": {},
       "data": "",
       "errorSummary": "Command skipped",
       "errorTraceType": "html",
       "metadata": {},
       "type": "ipynbError"
      }
     },
     "output_type": "display_data"
    }
   ],
   "source": [
    "final_df = pd.concat([names_df,\n",
    "                     ppl_aff_df,\n",
    "                     emails_df,\n",
    "                     ppl_dupe_df,\n",
    "                     ppl_reg,\n",
    "                     ppl_pubs])\n",
    "final_df.head()"
   ]
  },
  {
   "cell_type": "markdown",
   "metadata": {
    "application/vnd.databricks.v1+cell": {
     "cellMetadata": {},
     "inputWidgets": {},
     "nuid": "dc5f5281-520e-4cdb-a077-554870c72945",
     "showTitle": false,
     "title": ""
    }
   },
   "source": [
    "## Save Results to Table"
   ]
  },
  {
   "cell_type": "code",
   "execution_count": 0,
   "metadata": {
    "application/vnd.databricks.v1+cell": {
     "cellMetadata": {},
     "inputWidgets": {},
     "nuid": "92991557-34d7-4e86-a8a4-2aba62e0a5b7",
     "showTitle": false,
     "title": ""
    }
   },
   "outputs": [
    {
     "output_type": "display_data",
     "data": {
      "text/html": [
       "<style scoped>\n",
       "  .ansiout {\n",
       "    display: block;\n",
       "    unicode-bidi: embed;\n",
       "    white-space: pre-wrap;\n",
       "    word-wrap: break-word;\n",
       "    word-break: break-all;\n",
       "    font-family: \"Source Code Pro\", \"Menlo\", monospace;;\n",
       "    font-size: 13px;\n",
       "    color: #555;\n",
       "    margin-left: 4px;\n",
       "    line-height: 19px;\n",
       "  }\n",
       "</style>"
      ]
     },
     "metadata": {
      "application/vnd.databricks.v1+output": {
       "arguments": {},
       "data": "",
       "errorSummary": "Command skipped",
       "errorTraceType": "html",
       "metadata": {},
       "type": "ipynbError"
      }
     },
     "output_type": "display_data"
    }
   ],
   "source": [
    "final_agg = final_df.groupby(['peopleid','Category','Check']).Flag.sum().unstack().fillna(0)\n",
    "final_agg[final_agg.columns] = final_agg[final_agg.columns].astype('int32')\n",
    "final_agg.sort_index(axis=1,inplace=True)\n",
    "final_agg['Date']=as_of\n",
    "final_agg = final_agg.groupby('Date').sum()\n",
    "final_agg.head()"
   ]
  },
  {
   "cell_type": "markdown",
   "metadata": {
    "application/vnd.databricks.v1+cell": {
     "cellMetadata": {},
     "inputWidgets": {},
     "nuid": "6e29ff93-8c4b-4f49-8328-8bbf9a6f8873",
     "showTitle": false,
     "title": ""
    }
   },
   "source": [
    "#jira creds\n",
    "JIRA_API_TOKEN = 'rctxzsxvevDVfZPFR8FM0922'\n",
    "QA_jira = js.JIRA('https://h1insights.atlassian.net',\n",
    "                  basic_auth=('drake.bushnell@h1.co',\n",
    "                  JIRA_API_TOKEN))\n",
    "\n",
    "final_agg.select(col(\"DuplicateEmail\")).show()"
   ]
  },
  {
   "cell_type": "markdown",
   "metadata": {
    "application/vnd.databricks.v1+cell": {
     "cellMetadata": {},
     "inputWidgets": {},
     "nuid": "522a6290-d646-44f6-b688-9a91b7d4c1ae",
     "showTitle": false,
     "title": ""
    }
   },
   "source": [
    "QA_jira.add_comment('CQA-950',f\"\"\"{as_of} Update:\n",
    "\n",
    "* Duplicate Emails: {final_agg.toPandas().DuplicateEmail.nunique():,}\n",
    "\"\"\")"
   ]
  },
  {
   "cell_type": "code",
   "execution_count": 0,
   "metadata": {
    "application/vnd.databricks.v1+cell": {
     "cellMetadata": {},
     "inputWidgets": {},
     "nuid": "afe61f6d-0025-4eca-89bb-008d4a0b071f",
     "showTitle": false,
     "title": ""
    }
   },
   "outputs": [
    {
     "output_type": "display_data",
     "data": {
      "text/html": [
       "<style scoped>\n",
       "  .ansiout {\n",
       "    display: block;\n",
       "    unicode-bidi: embed;\n",
       "    white-space: pre-wrap;\n",
       "    word-wrap: break-word;\n",
       "    word-break: break-all;\n",
       "    font-family: \"Source Code Pro\", \"Menlo\", monospace;;\n",
       "    font-size: 13px;\n",
       "    color: #555;\n",
       "    margin-left: 4px;\n",
       "    line-height: 19px;\n",
       "  }\n",
       "</style>"
      ]
     },
     "metadata": {
      "application/vnd.databricks.v1+output": {
       "arguments": {},
       "data": "",
       "errorSummary": "Command skipped",
       "errorTraceType": "html",
       "metadata": {},
       "type": "ipynbError"
      }
     },
     "output_type": "display_data"
    }
   ],
   "source": [
    "run_flag =0\n",
    "df_agg = final_agg.stack().reset_index().rename(columns={0:'Count'})\n",
    "if run_flag==0:\n",
    "  #load old data\n",
    "  full_df = spark.sql(f'''\n",
    "  select *\n",
    "  from tableau.data_qa_weekly''')\n",
    "  #stats.createOrReplaceTempView(\"stats\")\n",
    "  full_df=full_df.toPandas()\n",
    "\n",
    "  #concat\n",
    "  df_agg = pd.concat([full_df,df_agg]).drop_duplicates()\n",
    "  df_agg.sort_index(axis=1,inplace=True)\n",
    "  \n",
    "\n",
    "\n",
    "\n"
   ]
  },
  {
   "cell_type": "code",
   "execution_count": 0,
   "metadata": {
    "application/vnd.databricks.v1+cell": {
     "cellMetadata": {},
     "inputWidgets": {},
     "nuid": "58b76967-9e99-4eb5-989e-01dc0ec8740f",
     "showTitle": false,
     "title": ""
    }
   },
   "outputs": [
    {
     "output_type": "display_data",
     "data": {
      "text/html": [
       "<style scoped>\n",
       "  .ansiout {\n",
       "    display: block;\n",
       "    unicode-bidi: embed;\n",
       "    white-space: pre-wrap;\n",
       "    word-wrap: break-word;\n",
       "    word-break: break-all;\n",
       "    font-family: \"Source Code Pro\", \"Menlo\", monospace;;\n",
       "    font-size: 13px;\n",
       "    color: #555;\n",
       "    margin-left: 4px;\n",
       "    line-height: 19px;\n",
       "  }\n",
       "</style>"
      ]
     },
     "metadata": {
      "application/vnd.databricks.v1+output": {
       "arguments": {},
       "data": "",
       "errorSummary": "Command skipped",
       "errorTraceType": "html",
       "metadata": {},
       "type": "ipynbError"
      }
     },
     "output_type": "display_data"
    }
   ],
   "source": [
    "%sql\n",
    "DROP TABLE IF EXISTS tableau.data_qa_weekly"
   ]
  },
  {
   "cell_type": "code",
   "execution_count": 0,
   "metadata": {
    "application/vnd.databricks.v1+cell": {
     "cellMetadata": {},
     "inputWidgets": {},
     "nuid": "77a007da-bc86-4391-ab5f-5cd5c51ed178",
     "showTitle": false,
     "title": ""
    }
   },
   "outputs": [
    {
     "output_type": "display_data",
     "data": {
      "text/html": [
       "<style scoped>\n",
       "  .ansiout {\n",
       "    display: block;\n",
       "    unicode-bidi: embed;\n",
       "    white-space: pre-wrap;\n",
       "    word-wrap: break-word;\n",
       "    word-break: break-all;\n",
       "    font-family: \"Source Code Pro\", \"Menlo\", monospace;;\n",
       "    font-size: 13px;\n",
       "    color: #555;\n",
       "    margin-left: 4px;\n",
       "    line-height: 19px;\n",
       "  }\n",
       "</style>"
      ]
     },
     "metadata": {
      "application/vnd.databricks.v1+output": {
       "arguments": {},
       "data": "",
       "errorSummary": "Command skipped",
       "errorTraceType": "html",
       "metadata": {},
       "type": "ipynbError"
      }
     },
     "output_type": "display_data"
    }
   ],
   "source": [
    "#database for tableau\n",
    "tbl = spark.createDataFrame(df_agg)\n",
    "tbl.write.mode('overwrite').saveAsTable(f'tableau.data_qa_weekly')"
   ]
  },
  {
   "cell_type": "markdown",
   "metadata": {
    "application/vnd.databricks.v1+cell": {
     "cellMetadata": {},
     "inputWidgets": {},
     "nuid": "907457f0-3da3-4df8-864e-3b0ee7f624bd",
     "showTitle": false,
     "title": ""
    }
   },
   "source": [
    "### Calculate aggregates"
   ]
  },
  {
   "cell_type": "code",
   "execution_count": 0,
   "metadata": {
    "application/vnd.databricks.v1+cell": {
     "cellMetadata": {},
     "inputWidgets": {},
     "nuid": "6091ba47-b365-405e-b52f-b24b432c9aee",
     "showTitle": false,
     "title": ""
    }
   },
   "outputs": [
    {
     "output_type": "display_data",
     "data": {
      "text/html": [
       "<style scoped>\n",
       "  .ansiout {\n",
       "    display: block;\n",
       "    unicode-bidi: embed;\n",
       "    white-space: pre-wrap;\n",
       "    word-wrap: break-word;\n",
       "    word-break: break-all;\n",
       "    font-family: \"Source Code Pro\", \"Menlo\", monospace;;\n",
       "    font-size: 13px;\n",
       "    color: #555;\n",
       "    margin-left: 4px;\n",
       "    line-height: 19px;\n",
       "  }\n",
       "</style>"
      ]
     },
     "metadata": {
      "application/vnd.databricks.v1+output": {
       "arguments": {},
       "data": "",
       "errorSummary": "Command skipped",
       "errorTraceType": "html",
       "metadata": {},
       "type": "ipynbError"
      }
     },
     "output_type": "display_data"
    }
   ],
   "source": [
    "out = df_agg.groupby(['Date','Check']).Count.min().unstack()"
   ]
  },
  {
   "cell_type": "code",
   "execution_count": 0,
   "metadata": {
    "application/vnd.databricks.v1+cell": {
     "cellMetadata": {},
     "inputWidgets": {},
     "nuid": "d7df43d5-5b56-4671-904c-7ec81bafec44",
     "showTitle": true,
     "title": "Save to GoogleSheets for Slack Message"
    }
   },
   "outputs": [
    {
     "output_type": "display_data",
     "data": {
      "text/html": [
       "<style scoped>\n",
       "  .ansiout {\n",
       "    display: block;\n",
       "    unicode-bidi: embed;\n",
       "    white-space: pre-wrap;\n",
       "    word-wrap: break-word;\n",
       "    word-break: break-all;\n",
       "    font-family: \"Source Code Pro\", \"Menlo\", monospace;;\n",
       "    font-size: 13px;\n",
       "    color: #555;\n",
       "    margin-left: 4px;\n",
       "    line-height: 19px;\n",
       "  }\n",
       "</style>"
      ]
     },
     "metadata": {
      "application/vnd.databricks.v1+output": {
       "arguments": {},
       "data": "",
       "errorSummary": "Command skipped",
       "errorTraceType": "html",
       "metadata": {},
       "type": "ipynbError"
      }
     },
     "output_type": "display_data"
    }
   ],
   "source": [
    "gc = pygsheets.authorize(service_file='/dbfs/FileStore/tables/coverage/sheets.json')\n",
    "grpt = gc.open_by_key('1rvKXdAPUl9wDDIC0NpwFZz5oC8bDBfLHD9nBnlbHTtw')\n",
    "\n"
   ]
  },
  {
   "cell_type": "code",
   "execution_count": 0,
   "metadata": {
    "application/vnd.databricks.v1+cell": {
     "cellMetadata": {},
     "inputWidgets": {},
     "nuid": "480717ea-88b4-42ad-9c27-79473868c835",
     "showTitle": false,
     "title": ""
    }
   },
   "outputs": [
    {
     "output_type": "display_data",
     "data": {
      "text/html": [
       "<style scoped>\n",
       "  .ansiout {\n",
       "    display: block;\n",
       "    unicode-bidi: embed;\n",
       "    white-space: pre-wrap;\n",
       "    word-wrap: break-word;\n",
       "    word-break: break-all;\n",
       "    font-family: \"Source Code Pro\", \"Menlo\", monospace;;\n",
       "    font-size: 13px;\n",
       "    color: #555;\n",
       "    margin-left: 4px;\n",
       "    line-height: 19px;\n",
       "  }\n",
       "</style>"
      ]
     },
     "metadata": {
      "application/vnd.databricks.v1+output": {
       "arguments": {},
       "data": "",
       "errorSummary": "Command skipped",
       "errorTraceType": "html",
       "metadata": {},
       "type": "ipynbError"
      }
     },
     "output_type": "display_data"
    }
   ],
   "source": [
    "for i in range(0,len(cats)):\n",
    "  cols = final_df[final_df.Category==cats[i]].Check.unique().tolist()\n",
    "  tmp = df_agg[df_agg['Check'].isin(cols)].groupby(['Date','Check']).Count.min().unstack().sort_index(ascending=False).reset_index()\n",
    "  sh = grpt.worksheet_by_title(cats[i])\n",
    "  sh.clear()\n",
    "  sh.set_dataframe(tmp.sort_values(\"Date\",ascending=False),(1,1))"
   ]
  },
  {
   "cell_type": "markdown",
   "metadata": {
    "application/vnd.databricks.v1+cell": {
     "cellMetadata": {},
     "inputWidgets": {},
     "nuid": "bc6c9e19-6217-4c6f-ab9c-f856d32e27cc",
     "showTitle": false,
     "title": ""
    }
   },
   "source": [
    "## Create Master Report for Data Analysis"
   ]
  },
  {
   "cell_type": "code",
   "execution_count": 0,
   "metadata": {
    "application/vnd.databricks.v1+cell": {
     "cellMetadata": {},
     "inputWidgets": {},
     "nuid": "cc525d56-7a8f-455b-aee0-3bf83a365dfa",
     "showTitle": false,
     "title": ""
    }
   },
   "outputs": [
    {
     "output_type": "display_data",
     "data": {
      "text/html": [
       "<style scoped>\n",
       "  .ansiout {\n",
       "    display: block;\n",
       "    unicode-bidi: embed;\n",
       "    white-space: pre-wrap;\n",
       "    word-wrap: break-word;\n",
       "    word-break: break-all;\n",
       "    font-family: \"Source Code Pro\", \"Menlo\", monospace;;\n",
       "    font-size: 13px;\n",
       "    color: #555;\n",
       "    margin-left: 4px;\n",
       "    line-height: 19px;\n",
       "  }\n",
       "</style>"
      ]
     },
     "metadata": {
      "application/vnd.databricks.v1+output": {
       "arguments": {},
       "data": "",
       "errorSummary": "Command skipped",
       "errorTraceType": "html",
       "metadata": {},
       "type": "ipynbError"
      }
     },
     "output_type": "display_data"
    }
   ],
   "source": [
    "rpt = final_df[[col for col in final_df.columns.tolist() if col != 'master_organization_id']].drop_duplicates().groupby(['peopleid','Check'])[[col for col in final_df.columns.tolist() if col != 'master_organization_id']].sum().unstack().fillna(0)\n",
    "rpt =rpt.droplevel(level=0,axis=1)\n",
    "rpt['Total Violations'] = rpt.sum(axis=1)\n",
    "rpt.sort_values(['Total Violations'],inplace=True,ascending=False)\n",
    "rpt.head()"
   ]
  },
  {
   "cell_type": "code",
   "execution_count": 0,
   "metadata": {
    "application/vnd.databricks.v1+cell": {
     "cellMetadata": {},
     "inputWidgets": {},
     "nuid": "00400613-81b4-46cd-b3ca-ffa2049da4cc",
     "showTitle": false,
     "title": ""
    }
   },
   "outputs": [
    {
     "output_type": "display_data",
     "data": {
      "text/html": [
       "<style scoped>\n",
       "  .ansiout {\n",
       "    display: block;\n",
       "    unicode-bidi: embed;\n",
       "    white-space: pre-wrap;\n",
       "    word-wrap: break-word;\n",
       "    word-break: break-all;\n",
       "    font-family: \"Source Code Pro\", \"Menlo\", monospace;;\n",
       "    font-size: 13px;\n",
       "    color: #555;\n",
       "    margin-left: 4px;\n",
       "    line-height: 19px;\n",
       "  }\n",
       "</style>"
      ]
     },
     "metadata": {
      "application/vnd.databricks.v1+output": {
       "arguments": {},
       "data": "",
       "errorSummary": "Command skipped",
       "errorTraceType": "html",
       "metadata": {},
       "type": "ipynbError"
      }
     },
     "output_type": "display_data"
    }
   ],
   "source": [
    "#send to Gsheets\n",
    "sh = grpt.worksheet_by_title(\"IDs\")\n",
    "sh.clear()\n",
    "sh.set_dataframe(rpt.reset_index(),(1,1),)"
   ]
  },
  {
   "cell_type": "markdown",
   "metadata": {
    "application/vnd.databricks.v1+cell": {
     "cellMetadata": {},
     "inputWidgets": {},
     "nuid": "7ff38737-90c8-4eb8-a526-6d2e54fd7072",
     "showTitle": false,
     "title": ""
    }
   },
   "source": [
    "# Share results to Slack"
   ]
  },
  {
   "cell_type": "code",
   "execution_count": 0,
   "metadata": {
    "application/vnd.databricks.v1+cell": {
     "cellMetadata": {},
     "inputWidgets": {},
     "nuid": "eadc5699-552c-442f-83cf-e6bf573b21b4",
     "showTitle": false,
     "title": ""
    }
   },
   "outputs": [
    {
     "output_type": "display_data",
     "data": {
      "text/html": [
       "<style scoped>\n",
       "  .ansiout {\n",
       "    display: block;\n",
       "    unicode-bidi: embed;\n",
       "    white-space: pre-wrap;\n",
       "    word-wrap: break-word;\n",
       "    word-break: break-all;\n",
       "    font-family: \"Source Code Pro\", \"Menlo\", monospace;;\n",
       "    font-size: 13px;\n",
       "    color: #555;\n",
       "    margin-left: 4px;\n",
       "    line-height: 19px;\n",
       "  }\n",
       "</style>"
      ]
     },
     "metadata": {
      "application/vnd.databricks.v1+output": {
       "arguments": {},
       "data": "",
       "errorSummary": "Command skipped",
       "errorTraceType": "html",
       "metadata": {},
       "type": "ipynbError"
      }
     },
     "output_type": "display_data"
    }
   ],
   "source": [
    "#sending out the email to slack\n",
    "\n",
    "message = EmailMessage()\n",
    "\n",
    "#set up sender & recipient\n",
    "sender = \"drake.bushnell@h1.co\"\n",
    "recipient = 'data-qa-one-team-aaaafheyazufnbfpuxqelx6ayi@h1insights.slack.com'\n",
    "message['From'] = sender\n",
    "message['To'] = recipient\n",
    "\n",
    "#set up subject\n",
    "message['Subject'] = f'QA - Weekly Report - {as_of}'\n",
    "\n",
    "#body\n",
    "body = f'''Access the QA report here: https://docs.google.com/spreadsheets/d/1rvKXdAPUl9wDDIC0NpwFZz5oC8bDBfLHD9nBnlbHTtw/edit?usp=sharing\n",
    "\n",
    "'''\n",
    "message.set_content(body)\n",
    "\n",
    "\n",
    "\n",
    "\n",
    "#mail server config\n",
    "mail_server = smtplib.SMTP_SSL('smtp.gmail.com')\n",
    "mail_server.set_debuglevel(1)\n",
    "mail_server.login(\"drake.bushnell@h1.co\", \"cfvamzzezgbdztaz\")\n",
    "mail_server.send_message(message)\n",
    "mail_server.quit()"
   ]
  },
  {
   "cell_type": "code",
   "execution_count": 0,
   "metadata": {
    "application/vnd.databricks.v1+cell": {
     "cellMetadata": {},
     "inputWidgets": {},
     "nuid": "1b4a6e39-55b0-41d3-b742-b7727682089c",
     "showTitle": false,
     "title": ""
    }
   },
   "outputs": [],
   "source": []
  }
 ],
 "metadata": {
  "application/vnd.databricks.v1+notebook": {
   "dashboards": [],
   "language": "python",
   "notebookMetadata": {
    "pythonIndentUnit": 2
   },
   "notebookName": "QA Reports - 2022-Q1 (clone) _PP",
   "widgets": {}
  }
 },
 "nbformat": 4,
 "nbformat_minor": 0
}
